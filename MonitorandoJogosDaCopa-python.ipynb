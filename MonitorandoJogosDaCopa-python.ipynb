{
 "cells": [
  {
   "cell_type": "code",
   "execution_count": null,
   "metadata": {},
   "outputs": [],
   "source": [
    "import requests\n",
    "from time import sleep\n",
    "from datetime import datetime\n",
    "\n",
    "def get_match_data():\n",
    "    return requests.get(\n",
    "      url='https://temporeal.lance.com.br/storage/matches/copa-do-mundo-2022-27-11-2022-espanhaxalemanha.json'\n",
    "    ).json()\n",
    "\n",
    "last update = None\n",
    "while True:\n",
    "   match_data = get_match_data()\n",
    "\n",
    "   narrations = match_data['match']['narrations']\n",
    "   last_narration = narrations [len (narrations)-1] \n",
    "   last_narration_time = datetime.strptime(last_narration[\"created_at'], '%Y-%m-%dT%H:%M:%S.ee0000Z\")\n",
    "\n",
    "  if (not last update) or (last_narration_time > last_update):\n",
    "     last update last_narration_time\n",
    "     last_narration_moment = narrations [len (narrations)-1]['moment'] \n",
    "     last_narration_text = narrations [len (narrations)-1]['text']\n",
    "     print (f.\\n. \\n. \\n[last_narration_moment)\" [last_narration_text}')\n",
    "\n",
    "sleep(30)"
   ]
  }
 ],
 "metadata": {
  "language_info": {
   "name": "python"
  },
  "orig_nbformat": 4
 },
 "nbformat": 4,
 "nbformat_minor": 2
}
